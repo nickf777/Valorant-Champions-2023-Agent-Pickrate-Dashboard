{
 "cells": [
  {
   "cell_type": "markdown",
   "id": "0531168c",
   "metadata": {},
   "source": [
    "# Webscraper"
   ]
  },
  {
   "cell_type": "markdown",
   "id": "ffe55ec8",
   "metadata": {},
   "source": [
    "## Import Libraries"
   ]
  },
  {
   "cell_type": "code",
   "execution_count": 1,
   "id": "c806266a",
   "metadata": {},
   "outputs": [],
   "source": [
    "import numpy as np\n",
    "import pandas as pd\n",
    "import matplotlib.pyplot as plt\n",
    "import seaborn as sns\n",
    "import requests \n",
    "from bs4 import BeautifulSoup\n",
    "import re\n",
    "import itertools\n",
    "import time\n",
    "\n",
    "\n",
    "sns.set()"
   ]
  },
  {
   "cell_type": "markdown",
   "id": "80853cf1",
   "metadata": {},
   "source": [
    "## Scrape Data"
   ]
  },
  {
   "cell_type": "code",
   "execution_count": 2,
   "id": "5349e4ec",
   "metadata": {},
   "outputs": [],
   "source": [
    "tournament_url = 'https://www.vlr.gg/event/matches/1657/valorant-champions-2023/?series_id=all'"
   ]
  },
  {
   "cell_type": "code",
   "execution_count": 3,
   "id": "7b0273b5",
   "metadata": {},
   "outputs": [],
   "source": [
    "def scrape_game(soup, game_id):\n",
    "    \"\"\"\n",
    "    Scrapes game information from a BeautifulSoup object based on the provided game ID.\n",
    "\n",
    "    Parameters:\n",
    "    - soup (BeautifulSoup): A BeautifulSoup object containing the HTML content of a web page.\n",
    "    - game_id (str): The unique identifier for the game being scraped.\n",
    "\n",
    "    Returns:\n",
    "    - tuple: A tuple containing two lists. The first list contains map titles, and the second list contains agent names.\n",
    "\n",
    "    The function extracts information about a single Valorant game, including the map title and character names, based on the provided\n",
    "    game ID from vlr.gg. It uses the BeautifulSoup library to parse HTML content and regular expressions for pattern matching.\n",
    "\n",
    "    The map title is extracted from a <span> element with a specific style attribute within the game's HTML content.\n",
    "    Character names are extracted from multiple <span> elements with a specific class attribute.\n",
    "\n",
    "    Example:\n",
    "    >>> from bs4 import BeautifulSoup\n",
    "    >>> html_content = \"<div class='vm-stats-game' data-game-id='123'>...</div>\"\n",
    "    >>> soup = BeautifulSoup(html_content, 'html.parser')\n",
    "    >>> map_title, characters = scrape_game(soup, '123')\n",
    "    >>> print(map_title)\n",
    "    ['MapName', 'MapName', ...]\n",
    "    >>> print(characters)\n",
    "    ['Character1', 'Character2', ...]\n",
    "    \"\"\"\n",
    "    game_soup = soup.find('div', {'class':'vm-stats-game', 'data-game-id':game_id})\n",
    "    \n",
    "    title_pattern = r'\\b[A-Z][a-z]*\\b'\n",
    "    map_string = game_soup.find('span', {'style':'position: relative;'}).text\n",
    "    map_title = re.findall(title_pattern, str(map_string))\n",
    "    \n",
    "    #Scrape character\n",
    "    character_spans = game_soup.find_all('span', {'class': 'stats-sq mod-agent small'})[:10]\n",
    "    characters = [img['title'] for span in character_spans for img in span]\n",
    "    \n",
    "    #Scrape team\n",
    "    team_divs = game_soup.find_all('div', {'class': 'team-name'})\n",
    "    teams = [div.text.strip() for div in team_divs for i in range(5)]\n",
    "    \n",
    "    map_title = map_title * len(characters)\n",
    "    \n",
    "    return map_title, characters, teams"
   ]
  },
  {
   "cell_type": "code",
   "execution_count": 4,
   "id": "487d18a2",
   "metadata": {},
   "outputs": [],
   "source": [
    "def scrape_match(match_url):\n",
    "    \"\"\"\n",
    "    Scrapes a list of game IDs from a given match URL from vlr.gg.\n",
    "\n",
    "    Parameters:\n",
    "    - match_url (str): The URL of the match page to be scraped.\n",
    "\n",
    "    Returns:\n",
    "    - tuple: A tuple containing a BeautifulSoup object representing the parsed HTML content of the match page,\n",
    "      and a list of game IDs associated with the match.\n",
    "\n",
    "    This function is designed to retrieve a list of game IDs from a match URL. It uses the requests library to fetch\n",
    "    the HTML content of the specified URL and BeautifulSoup to parse the HTML. The game IDs are extracted from <div> elements\n",
    "    with a specific class attribute in the HTML content.\n",
    "\n",
    "    Example:\n",
    "    >>> match_url = 'https://example.com/match/123'\n",
    "    >>> soup, game_ids = scrape_match(match_url)\n",
    "    >>> print(game_ids)\n",
    "    ['game_id_1', 'game_id_2', ...]\n",
    "    \"\"\"\n",
    "\n",
    "    html = requests.get(match_url)\n",
    "    soup = BeautifulSoup(html.text, 'lxml')\n",
    "    \n",
    "    games = soup.find_all('div', {'class':'vm-stats-gamesnav-item js-map-switch'})\n",
    "    game_ids = [game['data-game-id'] for game in games]\n",
    "    \n",
    "    return soup, game_ids"
   ]
  },
  {
   "cell_type": "code",
   "execution_count": 5,
   "id": "6ac33b98",
   "metadata": {},
   "outputs": [],
   "source": [
    "def scrape_tournament(tournament_url):\n",
    "    \"\"\"\n",
    "    Scrapes a list of match IDs from a given tournament URL from vlr.gg.\n",
    "\n",
    "    Parameters:\n",
    "    - tournament_url (str): The URL of the tournament page to be scraped.\n",
    "\n",
    "    Returns:\n",
    "    - list: A list of match IDs associated with the tournament.\n",
    "\n",
    "    This function is designed to retrieve a list of match IDs from a tournament URL. It uses the requests library to fetch\n",
    "    the HTML content of the specified URL and BeautifulSoup to parse the HTML. Match IDs are extracted from the <div> elements\n",
    "    with specific class and style attributes. The function also utilizes regular expressions and itertools to process the data.\n",
    "\n",
    "    Example:\n",
    "    >>> tournament_url = 'https://example.com/tournament/456'\n",
    "    >>> match_ids = scrape_tournament(tournament_url)\n",
    "    >>> print(match_ids)\n",
    "    ['123456', '789012', ...]\n",
    "    \"\"\"\n",
    "    html = requests.get(tournament_url)\n",
    "    soup = BeautifulSoup(html.text, 'lxml')\n",
    "    \n",
    "    tournament_pattern = r'href=\"/\\d+/[^\"]+\"'\n",
    "    matches = soup.find_all('div', {'class':'wf-card', 'style':'margin-bottom: 30px;'})\n",
    "    \n",
    "    links = [re.findall(tournament_pattern, str(strings)) for item in matches \\\n",
    "         for strings in item.children if re.findall(tournament_pattern, str(strings))]\n",
    "    links = list(itertools.chain(*links))\n",
    "    \n",
    "    match_pattern = r'\\b\\d{6}\\b'\n",
    "    match_ids = [re.findall(match_pattern,string) for string in links]\n",
    "    match_ids = list(itertools.chain(*match_ids))\n",
    "    \n",
    "    return match_ids"
   ]
  },
  {
   "cell_type": "code",
   "execution_count": 6,
   "id": "ff3b00eb",
   "metadata": {},
   "outputs": [],
   "source": [
    "def scrape_games_in_tournament():\n",
    "    \"\"\"\n",
    "    Scrapes game data from multiple matches in a tournament from vlr.gg and returns it as a DataFrame.\n",
    "\n",
    "    Returns:\n",
    "    - pandas.DataFrame: A DataFrame containing scraped game data including map titles, character names,\n",
    "      match IDs, and game IDs.\n",
    "\n",
    "    This function orchestrates the scraping process by utilizing other functions (scrape_tournament, scrape_match,\n",
    "    and scrape_game). It iterates through each match in a tournament, retrieves the relevant game and match information,\n",
    "    and organizes it into a DataFrame. The scraping process involves fetching match IDs, match URLs, game IDs, map titles,\n",
    "    and character names.\n",
    "\n",
    "    Example:\n",
    "    >>> scraped_data = scrape_games_in_tournament()\n",
    "    >>> print(scraped_data.head())\n",
    "         map         agents match_id game_id\n",
    "    0    Map1    Character1  123456   789012\n",
    "    1    Map1    Character2  123456   789012\n",
    "    2    Map1    Character3  123456   789012\n",
    "    ...  ...     ...         ...      ...\n",
    "    \"\"\"\n",
    "    df = pd.DataFrame()\n",
    "    \n",
    "    match_ids = scrape_tournament(tournament_url)\n",
    "    \n",
    "    for n, match_id in enumerate(match_ids, start = 1):\n",
    "        print(f'Scraping match {n} of {len(match_ids)}.')\n",
    "        match_url = f'https://www.vlr.gg/{match_id}' \n",
    "        \n",
    "        match_soup, game_ids = scrape_match(match_url)\n",
    "        \n",
    "        for game_id in game_ids:\n",
    "            map_title, characters, teams = scrape_game(match_soup, game_id)\n",
    "            \n",
    "            match_list = [match_id] * len(characters)\n",
    "            game_list = [game_id] * len(characters)\n",
    "    \n",
    "            game_df = pd.DataFrame({'map': map_title, \n",
    "                                    'agents': characters,\n",
    "                                    'team' : teams,\n",
    "                                    'match_id': match_list, \n",
    "                                    'game_id': game_list})\n",
    "            df = df.append(game_df)\n",
    "\n",
    "        time.sleep(2)\n",
    "    \n",
    "    return df"
   ]
  },
  {
   "cell_type": "code",
   "execution_count": 7,
   "id": "30b2c216",
   "metadata": {},
   "outputs": [],
   "source": [
    "#tournament_df = scrape_games_in_tournament()"
   ]
  },
  {
   "cell_type": "code",
   "execution_count": 8,
   "id": "5b6dd454",
   "metadata": {},
   "outputs": [],
   "source": [
    "#tournament_df.to_csv('valorant_champions_2023_agent_picks.csv')"
   ]
  },
  {
   "cell_type": "code",
   "execution_count": 9,
   "id": "47eae6d0",
   "metadata": {},
   "outputs": [],
   "source": [
    "df = pd.read_csv('valorant_champions_2023_agent_picks.csv')"
   ]
  },
  {
   "cell_type": "code",
   "execution_count": 10,
   "id": "b2c25e86",
   "metadata": {},
   "outputs": [],
   "source": [
    "df['match_id'] = df['match_id'].astype('str')\n",
    "df['game_id'] = df['game_id'].astype('str')"
   ]
  },
  {
   "cell_type": "code",
   "execution_count": 11,
   "id": "0f2bf1be",
   "metadata": {},
   "outputs": [],
   "source": [
    "agent_colors = {'Viper':'#2A4334',\n",
    "                'Breach':'#8B4C31',\n",
    "                'Astra': '#7E24D6',\n",
    "                'Neon': '#566AAF',\n",
    "                'Sova': '#223773',\n",
    "                'Killjoy': '#F5CE2C',\n",
    "                'Raze': '#F8A83E',\n",
    "                'Fade': '#1E1F2C',\n",
    "                'Omen': '#7577AF',\n",
    "                'Chamber': '#A77E58',\n",
    "                'Skye': '#628C66',\n",
    "                'Brimstone': '#7F3319',\n",
    "                'Kayo': '#13208F',\n",
    "                'Jett': '#B7D2DA',\n",
    "                'Harbor': '#0C8C74',\n",
    "                'Gekko': '#C2ED57',\n",
    "                'Sage': '#D9CFD8',\n",
    "                'Yoru': '#3D498D',\n",
    "                'Cypher': '#9B664B',\n",
    "                'Phoenix': '#E58B47',\n",
    "                'Reyna': '#7B3675'}"
   ]
  },
  {
   "cell_type": "code",
   "execution_count": 12,
   "id": "ba0d1abb",
   "metadata": {},
   "outputs": [],
   "source": [
    "df['color'] = df['agents'].map(agent_colors)"
   ]
  },
  {
   "cell_type": "code",
   "execution_count": 13,
   "id": "f283bcb9",
   "metadata": {},
   "outputs": [
    {
     "data": {
      "text/html": [
       "<div>\n",
       "<style scoped>\n",
       "    .dataframe tbody tr th:only-of-type {\n",
       "        vertical-align: middle;\n",
       "    }\n",
       "\n",
       "    .dataframe tbody tr th {\n",
       "        vertical-align: top;\n",
       "    }\n",
       "\n",
       "    .dataframe thead th {\n",
       "        text-align: right;\n",
       "    }\n",
       "</style>\n",
       "<table border=\"1\" class=\"dataframe\">\n",
       "  <thead>\n",
       "    <tr style=\"text-align: right;\">\n",
       "      <th></th>\n",
       "      <th>Unnamed: 0</th>\n",
       "      <th>map</th>\n",
       "      <th>agents</th>\n",
       "      <th>team</th>\n",
       "      <th>match_id</th>\n",
       "      <th>game_id</th>\n",
       "      <th>color</th>\n",
       "    </tr>\n",
       "  </thead>\n",
       "  <tbody>\n",
       "    <tr>\n",
       "      <th>0</th>\n",
       "      <td>0</td>\n",
       "      <td>Fracture</td>\n",
       "      <td>Viper</td>\n",
       "      <td>Team Liquid</td>\n",
       "      <td>247100</td>\n",
       "      <td>137395</td>\n",
       "      <td>#2A4334</td>\n",
       "    </tr>\n",
       "    <tr>\n",
       "      <th>1</th>\n",
       "      <td>1</td>\n",
       "      <td>Fracture</td>\n",
       "      <td>Breach</td>\n",
       "      <td>Team Liquid</td>\n",
       "      <td>247100</td>\n",
       "      <td>137395</td>\n",
       "      <td>#8B4C31</td>\n",
       "    </tr>\n",
       "    <tr>\n",
       "      <th>2</th>\n",
       "      <td>2</td>\n",
       "      <td>Fracture</td>\n",
       "      <td>Astra</td>\n",
       "      <td>Team Liquid</td>\n",
       "      <td>247100</td>\n",
       "      <td>137395</td>\n",
       "      <td>#7E24D6</td>\n",
       "    </tr>\n",
       "    <tr>\n",
       "      <th>3</th>\n",
       "      <td>3</td>\n",
       "      <td>Fracture</td>\n",
       "      <td>Neon</td>\n",
       "      <td>Team Liquid</td>\n",
       "      <td>247100</td>\n",
       "      <td>137395</td>\n",
       "      <td>#566AAF</td>\n",
       "    </tr>\n",
       "    <tr>\n",
       "      <th>4</th>\n",
       "      <td>4</td>\n",
       "      <td>Fracture</td>\n",
       "      <td>Sova</td>\n",
       "      <td>Team Liquid</td>\n",
       "      <td>247100</td>\n",
       "      <td>137395</td>\n",
       "      <td>#223773</td>\n",
       "    </tr>\n",
       "  </tbody>\n",
       "</table>\n",
       "</div>"
      ],
      "text/plain": [
       "   Unnamed: 0       map  agents         team match_id game_id    color\n",
       "0           0  Fracture   Viper  Team Liquid   247100  137395  #2A4334\n",
       "1           1  Fracture  Breach  Team Liquid   247100  137395  #8B4C31\n",
       "2           2  Fracture   Astra  Team Liquid   247100  137395  #7E24D6\n",
       "3           3  Fracture    Neon  Team Liquid   247100  137395  #566AAF\n",
       "4           4  Fracture    Sova  Team Liquid   247100  137395  #223773"
      ]
     },
     "execution_count": 13,
     "metadata": {},
     "output_type": "execute_result"
    }
   ],
   "source": [
    "df.head()"
   ]
  },
  {
   "cell_type": "markdown",
   "id": "469eca2f",
   "metadata": {},
   "source": [
    "# Dashboard"
   ]
  },
  {
   "cell_type": "code",
   "execution_count": 14,
   "id": "265bc7ba",
   "metadata": {},
   "outputs": [],
   "source": [
    "import plotly.graph_objects as go\n",
    "import plotly.express as px\n",
    "import plotly.offline as pyo\n",
    "import dash\n",
    "from dash import dcc\n",
    "from dash import html\n",
    "import dash_bootstrap_components as dbc\n",
    "from dash.dependencies import Input, Output"
   ]
  },
  {
   "cell_type": "markdown",
   "id": "f9254020",
   "metadata": {},
   "source": [
    "## Styles"
   ]
  },
  {
   "cell_type": "code",
   "execution_count": 15,
   "id": "f966f065",
   "metadata": {},
   "outputs": [],
   "source": [
    "SIDEBAR_STYLE = {\n",
    "    'position': 'fixed',\n",
    "    'top': 0,\n",
    "    'left': 0,\n",
    "    'bottom': 0,\n",
    "    'width': '30%',\n",
    "    'padding': '1rem 1rem 2rem',\n",
    "    'background-color': '#0A0E13',\n",
    "    'margin-right': '15px',\n",
    "    'color': '#FFFFFF',\n",
    "    'font-family': 'arial'\n",
    "}\n",
    "\n",
    "GRAPH_STYLE = {'width': '68.2%',  \n",
    "               'position': 'fixed', \n",
    "               'height': '100%', \n",
    "               'top': 0, \n",
    "               'bottom': 0, \n",
    "               'right': 0\n",
    "               }\n",
    "\n",
    "PLOT_LAYOUT = go.Layout(title = dict(text = 'Valorant Champions 2023 - Agent Selection', font = dict(size = 20)),\n",
    "                   xaxis = {'title': 'Agent Name', 'categoryorder': 'total descending'},\n",
    "                   yaxis = {'title': 'Pick Count', 'gridcolor': '#FFFFFF'},\n",
    "                   barmode = 'group',\n",
    "                   plot_bgcolor = '#0A0E13',\n",
    "                   paper_bgcolor = '#0A0E13',\n",
    "                   font_color = '#FFFFFF',\n",
    "                   font_family = 'Arial')"
   ]
  },
  {
   "cell_type": "markdown",
   "id": "36fbec85",
   "metadata": {},
   "source": [
    "## Dashboard Components"
   ]
  },
  {
   "cell_type": "code",
   "execution_count": 16,
   "id": "1cbbe718",
   "metadata": {},
   "outputs": [],
   "source": [
    "#Plotly Chart\n",
    "data = [go.Histogram(x = df['agents'], y = df['game_id'])]\n",
    "layout = go.Layout(title = 'Valorant Champions 2023 - Agent Pickrate',\n",
    "                   xaxis = {'title': 'Agent Name', 'categoryorder': 'total descending'},\n",
    "                   yaxis = {'title': 'Pick Count'},\n",
    "                   barmode = 'group')"
   ]
  },
  {
   "cell_type": "code",
   "execution_count": 17,
   "id": "2d64fda1",
   "metadata": {},
   "outputs": [],
   "source": [
    "map_options = [{'label': loc, 'value': loc} for loc in df['map'].unique()]\n",
    "map_options.append({'label': 'All Maps', 'value': 'All Maps'})"
   ]
  },
  {
   "cell_type": "code",
   "execution_count": 18,
   "id": "4a602e3d",
   "metadata": {},
   "outputs": [],
   "source": [
    "team_options = [{'label': team, 'value': team} for team in df['team'].unique()]\n",
    "team_options.append({'label': 'All Teams', 'value': 'All Teams'})"
   ]
  },
  {
   "cell_type": "code",
   "execution_count": 19,
   "id": "bb3b1b33",
   "metadata": {},
   "outputs": [],
   "source": [
    "#Map Select\n",
    "dropdown = dcc.Dropdown(id = 'map-picker', options = map_options, value = 'All Maps', style = {'color':'#000000'})"
   ]
  },
  {
   "cell_type": "code",
   "execution_count": 20,
   "id": "2f58cfdb",
   "metadata": {},
   "outputs": [],
   "source": [
    "#Team Select\n",
    "dropdown2 = dcc.Dropdown(id = 'team-picker', options = team_options, value = 'All Teams', style = {'color':'#000000',\n",
    "                                                                                                   'margin-top': '10px'})"
   ]
  },
  {
   "cell_type": "code",
   "execution_count": 21,
   "id": "da68710b",
   "metadata": {},
   "outputs": [],
   "source": [
    "#Image \n",
    "img = '/assets/valorant-logo_resized.png'"
   ]
  },
  {
   "cell_type": "code",
   "execution_count": 22,
   "id": "8f6a5de1",
   "metadata": {},
   "outputs": [],
   "source": [
    "#Sidebar\n",
    "sidebar = html.Div([\n",
    "    html.Img(src=img),\n",
    "    html.H2('Filters'),\n",
    "    html.Hr(),\n",
    "    html.P('Select A Map and Team:'),\n",
    "    dbc.Nav(\n",
    "        [dropdown, dropdown2],\n",
    "        vertical = True,\n",
    "        pills = True)\n",
    "    ],\n",
    "    style = SIDEBAR_STYLE\n",
    ")"
   ]
  },
  {
   "cell_type": "markdown",
   "id": "37e1ac94",
   "metadata": {},
   "source": [
    "## Run Dashboard"
   ]
  },
  {
   "cell_type": "code",
   "execution_count": 23,
   "id": "e4ff8b83",
   "metadata": {},
   "outputs": [],
   "source": [
    "app = dash.Dash()"
   ]
  },
  {
   "cell_type": "code",
   "execution_count": 24,
   "id": "3e0f8369",
   "metadata": {},
   "outputs": [
    {
     "name": "stdout",
     "output_type": "stream",
     "text": [
      "Dash app running on http://127.0.0.1:8050/\n"
     ]
    }
   ],
   "source": [
    "app.layout = html.Div(children = [\n",
    "                dbc.Row(\n",
    "                    [dbc.Col(sidebar),\n",
    "                    dbc.Col(dcc.Graph(id = 'bar', style = GRAPH_STYLE))\n",
    "                    ])\n",
    "    ]\n",
    ")\n",
    "\n",
    "if __name__ == '__main__':\n",
    "    app.run_server(jupyter_mode = 'external', debug = 'True')"
   ]
  },
  {
   "cell_type": "code",
   "execution_count": 25,
   "id": "33365e7a",
   "metadata": {},
   "outputs": [],
   "source": [
    "@app.callback(Output('bar','figure'), [Input('map-picker','value')])\n",
    "def update_map(selected_map):\n",
    "    if selected_map == 'All Maps' or selected_map == None:\n",
    "        data = [go.Histogram(x = df['agents'],\n",
    "                            y = df['game_id'],\n",
    "                            marker = {'color':'#FF4655'})]\n",
    "                        \n",
    "    else:\n",
    "        filtered_df = df.loc[df['map'] == selected_map]\n",
    "        data = [go.Histogram(x = filtered_df['agents'],\n",
    "                        y = filtered_df['game_id'],\n",
    "                            marker = {'color':'#FF4655'})]\n",
    "        \n",
    "    fig = {'data': data,\n",
    "           'layout': PLOT_LAYOUT}\n",
    "    \n",
    "    return fig"
   ]
  },
  {
   "cell_type": "code",
   "execution_count": null,
   "id": "362dae51",
   "metadata": {},
   "outputs": [],
   "source": []
  }
 ],
 "metadata": {
  "kernelspec": {
   "display_name": "Python 3 (ipykernel)",
   "language": "python",
   "name": "python3"
  },
  "language_info": {
   "codemirror_mode": {
    "name": "ipython",
    "version": 3
   },
   "file_extension": ".py",
   "mimetype": "text/x-python",
   "name": "python",
   "nbconvert_exporter": "python",
   "pygments_lexer": "ipython3",
   "version": "3.8.8"
  }
 },
 "nbformat": 4,
 "nbformat_minor": 5
}
